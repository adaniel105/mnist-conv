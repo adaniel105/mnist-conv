{
 "cells": [
  {
   "cell_type": "code",
   "execution_count": 1,
   "id": "001e0f14",
   "metadata": {
    "execution": {
     "iopub.execute_input": "2024-03-02T22:36:53.999057Z",
     "iopub.status.busy": "2024-03-02T22:36:53.998707Z",
     "iopub.status.idle": "2024-03-02T22:36:59.219784Z",
     "shell.execute_reply": "2024-03-02T22:36:59.218528Z"
    },
    "papermill": {
     "duration": 5.229763,
     "end_time": "2024-03-02T22:36:59.222187",
     "exception": false,
     "start_time": "2024-03-02T22:36:53.992424",
     "status": "completed"
    },
    "tags": []
   },
   "outputs": [],
   "source": [
    "import numpy as np\n",
    "import pandas as pd\n",
    "import torch\n",
    "import torch.nn as nn\n",
    "import torch.nn.functional as F\n",
    "from torch.utils.data import Dataset, DataLoader\n",
    "from torch.autograd import Variable\n",
    "from sklearn.model_selection import train_test_split"
   ]
  },
  {
   "cell_type": "code",
   "execution_count": 2,
   "id": "b404328f",
   "metadata": {
    "execution": {
     "iopub.execute_input": "2024-03-02T22:36:59.232112Z",
     "iopub.status.busy": "2024-03-02T22:36:59.231616Z",
     "iopub.status.idle": "2024-03-02T22:37:04.352566Z",
     "shell.execute_reply": "2024-03-02T22:37:04.351696Z"
    },
    "papermill": {
     "duration": 5.128311,
     "end_time": "2024-03-02T22:37:04.354925",
     "exception": false,
     "start_time": "2024-03-02T22:36:59.226614",
     "status": "completed"
    },
    "tags": []
   },
   "outputs": [],
   "source": [
    "train = pd.read_csv(\"../input/digit-recognizer/train.csv\")\n",
    "test = pd.read_csv(\"../input/digit-recognizer/test.csv\")"
   ]
  },
  {
   "cell_type": "code",
   "execution_count": 3,
   "id": "139e76ff",
   "metadata": {
    "execution": {
     "iopub.execute_input": "2024-03-02T22:37:04.364629Z",
     "iopub.status.busy": "2024-03-02T22:37:04.364142Z",
     "iopub.status.idle": "2024-03-02T22:37:04.372482Z",
     "shell.execute_reply": "2024-03-02T22:37:04.371360Z"
    },
    "papermill": {
     "duration": 0.015755,
     "end_time": "2024-03-02T22:37:04.374868",
     "exception": false,
     "start_time": "2024-03-02T22:37:04.359113",
     "status": "completed"
    },
    "tags": []
   },
   "outputs": [],
   "source": [
    "\"\"\"\n",
    "#the most basic data preprocessing\n",
    "class MNIST(Dataset):\n",
    "    def __init__(self, X, y=None):\n",
    "        self.X = X\n",
    "        self.y = y\n",
    "        \n",
    "    def __len__(self):\n",
    "        return len(self.X) #or self.data\n",
    "    \n",
    "    def __getitem__(self,idx):\n",
    "        if self.y is not None: #basically means if self.train is true, this diffs btw training and test dsets\n",
    "            return self.X[idx], self.y[idx]\n",
    "        self.X[idx]\n",
    "\"\"\"\n",
    "\n",
    "class MNIST(Dataset):\n",
    "    def __init__(self, dataframe, train=True):\n",
    "        self.train = train\n",
    "        if train:\n",
    "            self.labels = torch.tensor(dataframe['label'].values.astype(np.int64))\n",
    "            dataframe.drop('label', axis = 1, inplace=True)\n",
    "        self.data = torch.reshape(torch.tensor(dataframe.values.astype(np.float32)), (-1, 1, 28, 28))/255\n",
    "\n",
    "    def __len__(self):\n",
    "        return len(self.data)\n",
    "\n",
    "    def __getitem__(self, index):\n",
    "        input_data = self.data[index]\n",
    "        if self.train:\n",
    "            label = self.labels[index]\n",
    "            return input_data, label\n",
    "        return input_data"
   ]
  },
  {
   "cell_type": "code",
   "execution_count": 4,
   "id": "01f66bc1",
   "metadata": {
    "execution": {
     "iopub.execute_input": "2024-03-02T22:37:04.384279Z",
     "iopub.status.busy": "2024-03-02T22:37:04.383934Z",
     "iopub.status.idle": "2024-03-02T22:37:05.196924Z",
     "shell.execute_reply": "2024-03-02T22:37:05.195977Z"
    },
    "papermill": {
     "duration": 0.820295,
     "end_time": "2024-03-02T22:37:05.199351",
     "exception": false,
     "start_time": "2024-03-02T22:37:04.379056",
     "status": "completed"
    },
    "tags": []
   },
   "outputs": [],
   "source": [
    "train_dataset = MNIST(train)\n",
    "train_set, val_set = train_test_split(train_dataset, test_size=0.3, random_state = 42)"
   ]
  },
  {
   "cell_type": "code",
   "execution_count": 5,
   "id": "dcaa6b5f",
   "metadata": {
    "execution": {
     "iopub.execute_input": "2024-03-02T22:37:05.208526Z",
     "iopub.status.busy": "2024-03-02T22:37:05.208202Z",
     "iopub.status.idle": "2024-03-02T22:37:05.216616Z",
     "shell.execute_reply": "2024-03-02T22:37:05.215691Z"
    },
    "papermill": {
     "duration": 0.015472,
     "end_time": "2024-03-02T22:37:05.218773",
     "exception": false,
     "start_time": "2024-03-02T22:37:05.203301",
     "status": "completed"
    },
    "tags": []
   },
   "outputs": [
    {
     "data": {
      "text/plain": [
       "torch.Size([1, 28, 28])"
      ]
     },
     "execution_count": 5,
     "metadata": {},
     "output_type": "execute_result"
    }
   ],
   "source": [
    "val_iter = iter(val_set)\n",
    "image, label = next(val_iter)\n",
    "image.size()"
   ]
  },
  {
   "cell_type": "code",
   "execution_count": 6,
   "id": "f803c998",
   "metadata": {
    "execution": {
     "iopub.execute_input": "2024-03-02T22:37:05.228057Z",
     "iopub.status.busy": "2024-03-02T22:37:05.227737Z",
     "iopub.status.idle": "2024-03-02T22:37:05.232323Z",
     "shell.execute_reply": "2024-03-02T22:37:05.231386Z"
    },
    "papermill": {
     "duration": 0.011348,
     "end_time": "2024-03-02T22:37:05.234178",
     "exception": false,
     "start_time": "2024-03-02T22:37:05.222830",
     "status": "completed"
    },
    "tags": []
   },
   "outputs": [],
   "source": [
    "train_loader = DataLoader(train_set, batch_size = 64, shuffle=True)\n",
    "val_loader = DataLoader(val_set, batch_size = 64)"
   ]
  },
  {
   "cell_type": "code",
   "execution_count": 7,
   "id": "611e868f",
   "metadata": {
    "execution": {
     "iopub.execute_input": "2024-03-02T22:37:05.243037Z",
     "iopub.status.busy": "2024-03-02T22:37:05.242728Z",
     "iopub.status.idle": "2024-03-02T22:37:05.251782Z",
     "shell.execute_reply": "2024-03-02T22:37:05.250998Z"
    },
    "papermill": {
     "duration": 0.015786,
     "end_time": "2024-03-02T22:37:05.253832",
     "exception": false,
     "start_time": "2024-03-02T22:37:05.238046",
     "status": "completed"
    },
    "tags": []
   },
   "outputs": [],
   "source": [
    "class CNN(nn.Module):\n",
    "    def __init__(self):\n",
    "        super().__init__()\n",
    "        self.conv1 = nn.Conv2d(1,8, kernel_size=(3,3),stride=2, padding=1) #1*28*28\n",
    "        self.act1 = nn.ReLU()\n",
    "        self.conv2 = nn.Conv2d(8,16,kernel_size=(3,3),stride=2, padding=1)#4*28*28\n",
    "        self.act2 = nn.ReLU()\n",
    "        self.conv3 = nn.Conv2d(16, 32,kernel_size=(3,3),stride=2, padding=1)\n",
    "        self.act3 = nn.ReLU()\n",
    "        self.conv4 = nn.Conv2d(32,64,kernel_size=(3,3),stride=2, padding=1)\n",
    "        self.act4 = nn.ReLU()\n",
    "        #self.pool2 = nn.MaxPool2d(kernel_size=(2,2)) #max pooling downsamples by factors of 2\n",
    "        self.flat = nn.Flatten()\n",
    "        self.fc1 = nn.Linear(256, 128)\n",
    "        self.act5 = nn.ReLU()\n",
    "        self.fc2 = nn.Linear(128, 10)\n",
    "        \n",
    "        \n",
    "        \n",
    "    def forward(self, x):\n",
    "        x = self.conv1(x)\n",
    "        x = self.act1(x)\n",
    "        x = self.conv2(x)\n",
    "        x = self.act2(x)\n",
    "        x = self.conv3(x)\n",
    "        x = self.act3(x)\n",
    "        x = self.conv4(x)\n",
    "        x = self.act4(x)\n",
    "        x = self.flat(x)\n",
    "        x = self.fc1(x)\n",
    "        x = self.act5(x)\n",
    "        x = self.fc2(x)\n",
    "        return x"
   ]
  },
  {
   "cell_type": "code",
   "execution_count": 8,
   "id": "5bc9fca9",
   "metadata": {
    "execution": {
     "iopub.execute_input": "2024-03-02T22:37:05.263116Z",
     "iopub.status.busy": "2024-03-02T22:37:05.262697Z",
     "iopub.status.idle": "2024-03-02T22:37:05.276841Z",
     "shell.execute_reply": "2024-03-02T22:37:05.276080Z"
    },
    "papermill": {
     "duration": 0.021022,
     "end_time": "2024-03-02T22:37:05.278849",
     "exception": false,
     "start_time": "2024-03-02T22:37:05.257827",
     "status": "completed"
    },
    "tags": []
   },
   "outputs": [],
   "source": [
    "model = CNN()"
   ]
  },
  {
   "cell_type": "code",
   "execution_count": 9,
   "id": "32a81c7a",
   "metadata": {
    "execution": {
     "iopub.execute_input": "2024-03-02T22:37:05.287761Z",
     "iopub.status.busy": "2024-03-02T22:37:05.287427Z",
     "iopub.status.idle": "2024-03-02T22:37:07.888151Z",
     "shell.execute_reply": "2024-03-02T22:37:07.887191Z"
    },
    "papermill": {
     "duration": 2.607633,
     "end_time": "2024-03-02T22:37:07.890393",
     "exception": false,
     "start_time": "2024-03-02T22:37:05.282760",
     "status": "completed"
    },
    "tags": []
   },
   "outputs": [],
   "source": [
    "#define loss fn and optimizer\n",
    "criterion = nn.CrossEntropyLoss()\n",
    "optimizer = torch.optim.SGD(model.parameters(), lr=0.001, momentum=0.9)"
   ]
  },
  {
   "cell_type": "code",
   "execution_count": 10,
   "id": "5e19a0cb",
   "metadata": {
    "execution": {
     "iopub.execute_input": "2024-03-02T22:37:07.900194Z",
     "iopub.status.busy": "2024-03-02T22:37:07.899714Z",
     "iopub.status.idle": "2024-03-02T22:38:15.023902Z",
     "shell.execute_reply": "2024-03-02T22:38:15.023027Z"
    },
    "papermill": {
     "duration": 67.131251,
     "end_time": "2024-03-02T22:38:15.025963",
     "exception": false,
     "start_time": "2024-03-02T22:37:07.894712",
     "status": "completed"
    },
    "tags": []
   },
   "outputs": [
    {
     "name": "stdout",
     "output_type": "stream",
     "text": [
      "Epoch [1/20], Train loss: 2.3017501929531927, Train acc: 0.0000, Val_loss: 2.3006563271362768 , Val_acc: 5.3571\n",
      "Epoch [2/20], Train loss: 2.30129856467247, Train acc: 16.6667, Val_loss: 4.600610101283504 , Val_acc: 5.3571\n",
      "Epoch [3/20], Train loss: 2.3009015893590625, Train acc: 16.6667, Val_loss: 6.899838183737043 , Val_acc: 5.3571\n",
      "Epoch [4/20], Train loss: 2.3004797781291217, Train acc: 16.6667, Val_loss: 9.197935697390948 , Val_acc: 5.3571\n",
      "Epoch [5/20], Train loss: 2.299917862933615, Train acc: 16.6667, Val_loss: 11.493918404361319 , Val_acc: 5.3571\n",
      "Epoch [6/20], Train loss: 2.2990082957606384, Train acc: 12.5000, Val_loss: 13.785041323773147 , Val_acc: 5.3571\n",
      "Epoch [7/20], Train loss: 2.2970895390332857, Train acc: 16.6667, Val_loss: 16.060911036990017 , Val_acc: 12.5000\n",
      "Epoch [8/20], Train loss: 2.2903013000669685, Train acc: 16.6667, Val_loss: 18.22023082505628 , Val_acc: 26.7857\n",
      "Epoch [9/20], Train loss: 2.1911692604710513, Train acc: 62.5000, Val_loss: 18.87797519110786 , Val_acc: 71.4286\n",
      "Epoch [10/20], Train loss: 2.0223643137352623, Train acc: 83.3333, Val_loss: 19.346267974164885 , Val_acc: 75.0000\n",
      "Epoch [11/20], Train loss: 1.8738130442842311, Train acc: 91.6667, Val_loss: 19.72181660277287 , Val_acc: 80.3571\n",
      "Epoch [12/20], Train loss: 1.7447505902350489, Train acc: 87.5000, Val_loss: 20.03046173303563 , Val_acc: 83.9286\n",
      "Epoch [13/20], Train loss: 1.6321292934073353, Train acc: 95.8333, Val_loss: 20.299296109960768 , Val_acc: 87.5000\n",
      "Epoch [14/20], Train loss: 1.5331489209664164, Train acc: 100.0000, Val_loss: 20.536000190992947 , Val_acc: 91.0714\n",
      "Epoch [15/20], Train loss: 1.4456452243434994, Train acc: 100.0000, Val_loss: 20.75661663355561 , Val_acc: 87.5000\n",
      "Epoch [16/20], Train loss: 1.3676310921426984, Train acc: 95.8333, Val_loss: 20.955025133161527 , Val_acc: 92.8571\n",
      "Epoch [17/20], Train loss: 1.2980437504103803, Train acc: 95.8333, Val_loss: 21.147956037146944 , Val_acc: 91.0714\n",
      "Epoch [18/20], Train loss: 1.2352757417601377, Train acc: 95.8333, Val_loss: 21.332162176008303 , Val_acc: 92.8571\n",
      "Epoch [19/20], Train loss: 1.1784283811390588, Train acc: 95.8333, Val_loss: 21.499100280708166 , Val_acc: 96.4286\n",
      "Epoch [20/20], Train loss: 1.1267701118160038, Train acc: 100.0000, Val_loss: 21.659241931862788 , Val_acc: 94.6429\n"
     ]
    }
   ],
   "source": [
    "#write training loop\n",
    "epochs = 20\n",
    "steps = 0\n",
    "train_losses, val_losses = [], []\n",
    "running_loss = 0 \n",
    "val_loss = 0 \n",
    "\n",
    "for epoch in range(epochs):\n",
    "    model.train()\n",
    "    for batch_idx, (images, labels) in enumerate(train_loader):\n",
    "        steps += 1\n",
    "        images = Variable(images.view(-1,1,28,28))\n",
    "        labels = Variable(labels)\n",
    "        optimizer.zero_grad()\n",
    "        outputs = model(images)\n",
    "        loss = criterion(outputs, labels)\n",
    "        running_loss += loss.item()\n",
    "        loss.backward()\n",
    "        optimizer.step()\n",
    "        \n",
    "        total_train= 0\n",
    "        correct_train = 0\n",
    "        \n",
    "        _,predicted = torch.max(outputs.data, 1)\n",
    "        total_train += labels.size(0)\n",
    "        correct_train += (predicted == labels).sum().item()\n",
    "        train_acc = (correct_train/total_train) * 100\n",
    "        \n",
    "\n",
    "    with torch.no_grad():\n",
    "        model.eval() #can also be model.inference_mode or something\n",
    "        for data in val_loader:\n",
    "            images, labels = data[0], data[1]\n",
    "            outputs = model(images)\n",
    "            loss = criterion(outputs, labels)\n",
    "            val_loss += loss.item()\n",
    "            \n",
    "        correct_val = 0\n",
    "        total_val = 0\n",
    "        \n",
    "        _,predicted = torch.max(outputs.data, 1)\n",
    "        total_val += labels.size(0)\n",
    "        correct_val += (predicted == labels).sum().item()\n",
    "        val_acc = (correct_val/total_val) * 100\n",
    "        \n",
    "    train_losses.append(running_loss/total_train)\n",
    "    val_losses.append(val_loss/total_val)\n",
    "        \n",
    "    print(f\"Epoch [{epoch + 1}/{epochs}], Train loss: {running_loss/steps}, Train acc: {train_acc:.4f}, Val_loss: {val_loss/len(val_loader)} , Val_acc: {val_acc :.4f}\")"
   ]
  },
  {
   "cell_type": "code",
   "execution_count": 11,
   "id": "8e6bd449",
   "metadata": {
    "execution": {
     "iopub.execute_input": "2024-03-02T22:38:15.038182Z",
     "iopub.status.busy": "2024-03-02T22:38:15.037593Z",
     "iopub.status.idle": "2024-03-02T22:38:16.608629Z",
     "shell.execute_reply": "2024-03-02T22:38:16.607750Z"
    },
    "papermill": {
     "duration": 1.579639,
     "end_time": "2024-03-02T22:38:16.610993",
     "exception": false,
     "start_time": "2024-03-02T22:38:15.031354",
     "status": "completed"
    },
    "tags": []
   },
   "outputs": [],
   "source": [
    "test = pd.read_csv(\"../input/digit-recognizer/test.csv\")\n",
    "test_dataset = MNIST(test, train=False)\n",
    "test_loader = DataLoader(test_dataset, batch_size=64)"
   ]
  },
  {
   "cell_type": "code",
   "execution_count": 12,
   "id": "874ffadb",
   "metadata": {
    "execution": {
     "iopub.execute_input": "2024-03-02T22:38:16.623628Z",
     "iopub.status.busy": "2024-03-02T22:38:16.623038Z",
     "iopub.status.idle": "2024-03-02T22:38:17.369771Z",
     "shell.execute_reply": "2024-03-02T22:38:17.368694Z"
    },
    "papermill": {
     "duration": 0.756078,
     "end_time": "2024-03-02T22:38:17.372478",
     "exception": false,
     "start_time": "2024-03-02T22:38:16.616400",
     "status": "completed"
    },
    "tags": []
   },
   "outputs": [],
   "source": [
    "y_test = []\n",
    "\n",
    "with torch.no_grad():\n",
    "    for batch in test_loader:\n",
    "        preds = model(batch).cpu()\n",
    "        _,preds = torch.max(preds, 1)\n",
    "        for pred in preds.numpy():\n",
    "            y_test.append(pred)"
   ]
  },
  {
   "cell_type": "code",
   "execution_count": 13,
   "id": "bb623e1d",
   "metadata": {
    "execution": {
     "iopub.execute_input": "2024-03-02T22:38:17.384844Z",
     "iopub.status.busy": "2024-03-02T22:38:17.384420Z",
     "iopub.status.idle": "2024-03-02T22:38:17.456147Z",
     "shell.execute_reply": "2024-03-02T22:38:17.454886Z"
    },
    "papermill": {
     "duration": 0.080587,
     "end_time": "2024-03-02T22:38:17.458629",
     "exception": false,
     "start_time": "2024-03-02T22:38:17.378042",
     "status": "completed"
    },
    "tags": []
   },
   "outputs": [],
   "source": [
    "submission = pd.read_csv(\"../input/digit-recognizer/sample_submission.csv\")\n",
    "submission[\"Label\"] = pd.Series(y_test)"
   ]
  },
  {
   "cell_type": "code",
   "execution_count": 14,
   "id": "4be0e541",
   "metadata": {
    "execution": {
     "iopub.execute_input": "2024-03-02T22:38:17.471791Z",
     "iopub.status.busy": "2024-03-02T22:38:17.471405Z",
     "iopub.status.idle": "2024-03-02T22:38:17.500371Z",
     "shell.execute_reply": "2024-03-02T22:38:17.499276Z"
    },
    "papermill": {
     "duration": 0.038929,
     "end_time": "2024-03-02T22:38:17.503041",
     "exception": false,
     "start_time": "2024-03-02T22:38:17.464112",
     "status": "completed"
    },
    "tags": []
   },
   "outputs": [],
   "source": [
    "submission.to_csv('submission.csv', index=False)"
   ]
  }
 ],
 "metadata": {
  "kaggle": {
   "accelerator": "none",
   "dataSources": [
    {
     "databundleVersionId": 861823,
     "sourceId": 3004,
     "sourceType": "competition"
    }
   ],
   "dockerImageVersionId": 30664,
   "isGpuEnabled": false,
   "isInternetEnabled": true,
   "language": "python",
   "sourceType": "notebook"
  },
  "kernelspec": {
   "display_name": "Python 3",
   "language": "python",
   "name": "python3"
  },
  "language_info": {
   "codemirror_mode": {
    "name": "ipython",
    "version": 3
   },
   "file_extension": ".py",
   "mimetype": "text/x-python",
   "name": "python",
   "nbconvert_exporter": "python",
   "pygments_lexer": "ipython3",
   "version": "3.10.13"
  },
  "papermill": {
   "default_parameters": {},
   "duration": 87.424924,
   "end_time": "2024-03-02T22:38:18.832056",
   "environment_variables": {},
   "exception": null,
   "input_path": "__notebook__.ipynb",
   "output_path": "__notebook__.ipynb",
   "parameters": {},
   "start_time": "2024-03-02T22:36:51.407132",
   "version": "2.5.0"
  }
 },
 "nbformat": 4,
 "nbformat_minor": 5
}
